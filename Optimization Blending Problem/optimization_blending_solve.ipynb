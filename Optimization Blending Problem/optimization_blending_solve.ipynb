{
 "metadata": {
  "language_info": {
   "codemirror_mode": {
    "name": "ipython",
    "version": 3
   },
   "file_extension": ".py",
   "mimetype": "text/x-python",
   "name": "python",
   "nbconvert_exporter": "python",
   "pygments_lexer": "ipython3",
   "version": "3.7.3-final"
  },
  "orig_nbformat": 2,
  "kernelspec": {
   "name": "python3",
   "display_name": "Python 3",
   "language": "python"
  }
 },
 "nbformat": 4,
 "nbformat_minor": 2,
 "cells": [
  {
   "cell_type": "code",
   "execution_count": 3,
   "metadata": {},
   "outputs": [],
   "source": [
    "import scipy as sp\n",
    "import numpy as np"
   ]
  },
  {
   "cell_type": "code",
   "execution_count": null,
   "metadata": {},
   "outputs": [],
   "source": [
    "# cut_volume\n",
    "\n",
    "oil_cut = {'AD-1':9550.0, 'AD-2':13355.0, 'AD-3':11140.0, 'AD-4':3145.0}\n",
    "\n",
    "price = [48, 65, 42]"
   ]
  },
  {
   "cell_type": "code",
   "execution_count": null,
   "metadata": {},
   "outputs": [],
   "source": [
    "def objective(oil_cut=oil_cut, price=price, fj, fd):\n",
    "    jet = oil_cut['AD-1'] + oil_cut['AD-2']*fj\n",
    "    diesel = oil_cut['AD-2']*(1-fj) + oil_cut['AD-3']*fg\n",
    "    fo = oil_cut['AD-3']*(1-fg) + oil_cut['AD-4']\n",
    "    oil_volume = np.array([jet, diesel, fo])\n",
    "    price = np.array(price)\n",
    "    revenue = np.sum(oil_volume*price)\n",
    "    return revenue*119.24"
   ]
  },
  {
   "cell_type": "code",
   "execution_count": null,
   "metadata": {},
   "outputs": [],
   "source": [
    "def equality_1():\n",
    "    pass"
   ]
  },
  {
   "cell_type": "code",
   "execution_count": null,
   "metadata": {},
   "outputs": [],
   "source": [
    "def inequality():\n",
    "    pass"
   ]
  }
 ]
}