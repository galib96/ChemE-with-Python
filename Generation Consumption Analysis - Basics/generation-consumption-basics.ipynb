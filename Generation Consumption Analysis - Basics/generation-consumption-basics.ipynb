{
 "metadata": {
  "language_info": {
   "codemirror_mode": {
    "name": "ipython",
    "version": 3
   },
   "file_extension": ".py",
   "mimetype": "text/x-python",
   "name": "python",
   "nbconvert_exporter": "python",
   "pygments_lexer": "ipython3",
   "version": "3.7.3-final"
  },
  "orig_nbformat": 2,
  "kernelspec": {
   "name": "python3",
   "display_name": "Python 3",
   "language": "python"
  }
 },
 "nbformat": 4,
 "nbformat_minor": 2,
 "cells": [
  {
   "source": [
    "### Problem Statement\n",
    "\n",
    "Consider three reactions for the production of ammonia\n",
    "\n",
    "1. Steam-reforming of methane\n",
    "<div style=\"margin-top:5px;margin-bottom:10px\">\n",
    "CH<sub>4</sub> + H<sub>2</sub>O &rarr; CO + 3 H<sub>2\n",
    "</div>\n",
    "2. Water-gas shift \n",
    "<div style=\"margin-top:5px;margin-bottom:10px\">\n",
    "CO + H<sub>2</sub>O &rarr; CO<sub>2</sub> + H<sub>2\n",
    "</div>\n",
    "3. Haber-Bosch reaction\n",
    "<div style=\"margin-top:5px;margin-bottom:10px\">\n",
    "N<sub>2</sub> + 3 H<sub>2</sub> &rarr; 2 NH<sub>3</sub>\n",
    "</div>\n",
    "\n",
    "Determine if it is possible to construct a process for the production of ammonia with no wasted hydrogen and no release of carbon monoxide."
   ],
   "cell_type": "markdown",
   "metadata": {}
  },
  {
   "source": [
    "Let's Solve this.\n",
    "\n",
    "First of all we will construct a matrix where reaction co-effcicent of each process and each molecule will be shown.\n",
    "\n",
    "| Species         | R<sub>1</sub> | R<sub>2</sub> | R<sub>3</sub> | Net                 |\n",
    "| :-------------: | :-----------: | :-----------: | :-----------: | :-----------------: |\n",
    "|                 | &chi;<sub>1</sub> | &chi;<sub>2</sub> | &chi;<sub>3</sub> | $\\sum_k\\nu_k\\chi_k$ |\n",
    "| CH<sub>4</sub>  | -1            |  0            |  0            | &leq; 0             |\n",
    "| H<sub>2</sub>O  | -1            | -1            |  0            | &leq; 0             |\n",
    "| CO              |  1            | -1            |  0            | 0                   |\n",
    "| H<sub>2</sub>   |  3            |  1            | -3            | 0                   |\n",
    "| CO<sub>2</sub>  |  0            |  1            |  0            | &geq; 0             |\n",
    "| N<sub>2</sub>   |  0            |  0            |  1            | &leq; 0             |\n",
    "| NH<sub>3</sub>  |  0            |  0            |  2            | 1                   |\n",
    "\n",
    "\n",
    "which includes three equality constraints which need to be solved for\n",
    "&chi;<sub>1</sub>, &chi;<sub>2</sub>, and &chi;<sub>3</sub>."
   ],
   "cell_type": "markdown",
   "metadata": {}
  },
  {
   "cell_type": "code",
   "execution_count": 1,
   "metadata": {},
   "outputs": [],
   "source": [
    "# importing sympy and numpy\n",
    "import numpy as np\n",
    "import sympy as sm"
   ]
  },
  {
   "cell_type": "code",
   "execution_count": 2,
   "metadata": {},
   "outputs": [
    {
     "output_type": "execute_result",
     "data": {
      "text/plain": [
       "(r1, r2, r3)"
      ]
     },
     "metadata": {},
     "execution_count": 2
    }
   ],
   "source": [
    "# creating three variables for three reactions\n",
    "sm.var('r1 r2 r3')"
   ]
  },
  {
   "cell_type": "code",
   "execution_count": 3,
   "metadata": {},
   "outputs": [],
   "source": [
    "# creating dictionary which stores the equation for each substance\n",
    "v = {}\n",
    "\n",
    "v['CH4'] = -r1\n",
    "v['H20'] = -r1 -r2\n",
    "v['CO'] = r1 -r2\n",
    "v['H2'] = 3*r1 +r2 -3*r3\n",
    "v['CO2'] = r2\n",
    "v['N2'] = -r3\n",
    "v['NH3'] = 2*r3"
   ]
  },
  {
   "cell_type": "code",
   "execution_count": 4,
   "metadata": {},
   "outputs": [],
   "source": [
    "# balance equations\n",
    "\n",
    "balance_eqn = [\n",
    "    sm.Eq(v['NH3'], 1),\n",
    "    sm.Eq(v['CO'], 0),\n",
    "    sm.Eq(v['H2'], 0)\n",
    "]"
   ]
  },
  {
   "cell_type": "code",
   "execution_count": 5,
   "metadata": {},
   "outputs": [
    {
     "output_type": "stream",
     "name": "stdout",
     "text": [
      "{r1: 3/8, r2: 3/8, r3: 1/2}\n"
     ]
    }
   ],
   "source": [
    "#solving balance equation using sympy\n",
    "result = sm.solve(balance_eqn)\n",
    "\n",
    "print(result)"
   ]
  },
  {
   "cell_type": "code",
   "execution_count": 6,
   "metadata": {},
   "outputs": [
    {
     "output_type": "stream",
     "name": "stdout",
     "text": [
      "CH4 -3/8\nH20 -3/4\nCO 0\nH2 0\nCO2 3/8\nN2 -1/2\nNH3 1\n"
     ]
    }
   ],
   "source": [
    "# printing the final output of process for given conditions\n",
    "\n",
    "for molecule in v.keys():\n",
    "    print(molecule, v[molecule].subs(result))\n"
   ]
  },
  {
   "source": [
    "Those are the freaction of substances that will be left at the end of the process (basis 1 unit of ammonia), given that all hydorgen and carbon monoxide are consumed."
   ],
   "cell_type": "markdown",
   "metadata": {}
  },
  {
   "source": [
    "Reference:\n",
    "https://nbviewer.jupyter.org/github/jckantor/CBE20255/blob/master/notebooks/02.02-Generation-Consumption-Analysis-for-Ammonia-Production.ipynb"
   ],
   "cell_type": "markdown",
   "metadata": {}
  },
  {
   "cell_type": "code",
   "execution_count": null,
   "metadata": {},
   "outputs": [],
   "source": []
  }
 ]
}