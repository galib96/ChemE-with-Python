{
 "metadata": {
  "language_info": {
   "codemirror_mode": {
    "name": "ipython",
    "version": 3
   },
   "file_extension": ".py",
   "mimetype": "text/x-python",
   "name": "python",
   "nbconvert_exporter": "python",
   "pygments_lexer": "ipython3",
   "version": "3.7.3-final"
  },
  "orig_nbformat": 2,
  "kernelspec": {
   "name": "python3",
   "display_name": "Python 3",
   "language": "python"
  }
 },
 "nbformat": 4,
 "nbformat_minor": 2,
 "cells": [
  {
   "cell_type": "code",
   "execution_count": 1,
   "metadata": {},
   "outputs": [],
   "source": [
    "import numpy as np\n",
    "import sympy as sm\n",
    "import scipy as sp"
   ]
  },
  {
   "source": [
    "Methane Combustion Reaction:\n",
    "\n",
    "<img src=\"methane_combustion_reaction.JPG\">\n",
    "\n",
    "To balance this equation, we will use atomic balance. For each atom, a balance equation can be written."
   ],
   "cell_type": "markdown",
   "metadata": {}
  },
  {
   "cell_type": "code",
   "execution_count": 8,
   "metadata": {},
   "outputs": [
    {
     "output_type": "stream",
     "name": "stdout",
     "text": [
      "Eq(vCH4 + vCO2, 0)\nEq(4*vCH4 + 2*vH2O, 0)\nEq(2*vCO2 + vH2O + 2*vO2, 0)\n"
     ]
    }
   ],
   "source": [
    "sm.var(['vCH4','vO2','vCO2','vH2O'])\n",
    "atom_balances = [\n",
    "    sm.Eq(vCH4 + vCO2, 0), # Carbon (C) balance\n",
    "    sm.Eq(4*vCH4 + 2*vH2O, 0), # Hydrogen (H) balance\n",
    "    sm.Eq(2*vO2 + 2*vCO2 + vH2O, 0) # Oxygen (O) balance\n",
    "]\n",
    "\n",
    "# checking the atomic balance equations\n",
    "for eqn in atom_balances:\n",
    "    print(eqn)"
   ]
  },
  {
   "source": [
    "Now, we need a basis equation to balance the equations. As, this is a combustion, we can take methane and basis as -1."
   ],
   "cell_type": "markdown",
   "metadata": {}
  },
  {
   "cell_type": "code",
   "execution_count": 9,
   "metadata": {},
   "outputs": [
    {
     "output_type": "stream",
     "name": "stdout",
     "text": [
      "Eq(vCH4, -1)\n"
     ]
    }
   ],
   "source": [
    "# basis equation vCH4 and -1\n",
    "basis_eqn = [sm.Eq(vCH4, -1)]\n",
    "\n",
    "# checking the basis equations\n",
    "for eqn in basis_eqn:\n",
    "    print(eqn)"
   ]
  },
  {
   "source": [
    "Now, let's solve the atom balance equations and basis equations using sympy module. "
   ],
   "cell_type": "markdown",
   "metadata": {}
  },
  {
   "cell_type": "code",
   "execution_count": 13,
   "metadata": {},
   "outputs": [
    {
     "output_type": "stream",
     "name": "stdout",
     "text": [
      "{vCH4: -1, vCO2: 1, vH2O: 2, vO2: -2}\n"
     ]
    }
   ],
   "source": [
    "balance_one = sm.solve(atom_balances + basis_eqn)\n",
    "\n",
    "print(balance_one)"
   ]
  },
  {
   "source": [
    "So, the balanced co-efficients are saved in a dictionary. For left hand side of the equation, co-efficient is negative and for right-hand side, co-efficient is positive."
   ],
   "cell_type": "markdown",
   "metadata": {}
  },
  {
   "source": [
    "Let's solve a Complex chemical reaction.\n",
    "Here is the equation:\n",
    "\n",
    "<img src=\"ferrocyanide_sulfuric_acid.JPG\">\n",
    "\n",
    "as before, we'll use atomic balance to solve this."
   ],
   "cell_type": "markdown",
   "metadata": {}
  },
  {
   "cell_type": "code",
   "execution_count": 25,
   "metadata": {},
   "outputs": [
    {
     "output_type": "stream",
     "name": "stdout",
     "text": [
      "['K', 'Fe', 'S', 'C', 'N', 'Cr', 'O', 'H']\nEq(2*vK2Cr2O7 + 2*vK2SO4 + 4*vK4FeSCN6 + vKNO3, 0)\nEq(2*vFe2SO43 + vK4FeSCN6, 0)\nEq(3*vCr2SO43 + 3*vFe2SO43 + vH2SO4 + vK2SO4 + 6*vK4FeSCN6, 0)\nEq(vCO2 + 6*vK4FeSCN6, 0)\nEq(6*vK4FeSCN6 + vKNO3, 0)\nEq(2*vCr2SO43 + 2*vK2Cr2O7, 0)\nEq(2*vCO2 + 12*vCr2SO43 + 12*vFe2SO43 + vH2O + 4*vH2SO4 + 7*vK2Cr2O7 + 4*vK2SO4 + 3*vKNO3, 0)\nEq(vH2O + 2*vH2SO4, 0)\n"
     ]
    }
   ],
   "source": [
    "atoms = ['K','Fe','S','C','N','Cr','O','H']\n",
    "\n",
    "sm.var(['vK4FeSCN6','vK2Cr2O7','vH2SO4','vFe2SO43','vCr2SO43','vCO2','vH2O','vK2SO4','vKNO3'])\n",
    "atom_balances = [\n",
    "    sm.Eq(4*vK4FeSCN6+2*vK2Cr2O7+0*vH2SO4+0*vFe2SO43+0*vCr2SO43+0*vCO2+0*vH2O+2*vK2SO4+vKNO3,0), # Potassium (K) balance\n",
    "    sm.Eq(vK4FeSCN6+0*vK2Cr2O7+0*vH2SO4+2*vFe2SO43+0*vCr2SO43+0*vCO2+0*vH2O+0*vK2SO4+0*vKNO3,0), # Iron (Fe) balance\n",
    "    sm.Eq(6*vK4FeSCN6+0*vK2Cr2O7+vH2SO4+3*vFe2SO43+3*vCr2SO43+0*vCO2+0*vH2O+vK2SO4+0*vKNO3,0), # Sulfur (S) balance\n",
    "    sm.Eq(6*vK4FeSCN6+0*vK2Cr2O7+0*vH2SO4+0*vFe2SO43+0*vCr2SO43+vCO2+0*vH2O+0*vK2SO4+0*vKNO3,0), # Carbon (C) balance\n",
    "    sm.Eq(6*vK4FeSCN6+0*vK2Cr2O7+0*vH2SO4+0*vFe2SO43+0*vCr2SO43+0*vCO2+0*vH2O+0*vK2SO4+vKNO3,0), # Nitrogen (N) balance\n",
    "    sm.Eq(0*vK4FeSCN6+2*vK2Cr2O7+0*vH2SO4+0*vFe2SO43+2*vCr2SO43+0*vCO2+0*vH2O+0*vK2SO4+0*vKNO3,0), # Chromium (Cr) balance\n",
    "    sm.Eq(0*vK4FeSCN6+7*vK2Cr2O7+4*vH2SO4+4*3*vFe2SO43+4*3*vCr2SO43+2*vCO2+vH2O+4*vK2SO4+3*vKNO3,0), # Oxygen (O) balance\n",
    "    sm.Eq(0*vK4FeSCN6+0*vK2Cr2O7+2*vH2SO4+0*vFe2SO43+0*vCr2SO43+0*vCO2+vH2O+0*vK2SO4+0*vKNO3,0), # Hydrogen (H) balance\n",
    "]\n",
    "\n",
    "# checking the atomic balance equations\n",
    "print(atoms)\n",
    "\n",
    "for eqn in atom_balances:\n",
    "    print(eqn)"
   ]
  },
  {
   "cell_type": "code",
   "execution_count": 29,
   "metadata": {},
   "outputs": [
    {
     "output_type": "stream",
     "name": "stdout",
     "text": [
      "Eq(vK2Cr2O7, -1)\n"
     ]
    }
   ],
   "source": [
    "# basis equation vK2Cr2O7 and -1\n",
    "basis_eqn = [sm.Eq(vK2Cr2O7, -1)]\n",
    "\n",
    "# checking the basis equations\n",
    "for eqn in basis_eqn:\n",
    "    print(eqn)"
   ]
  },
  {
   "cell_type": "code",
   "execution_count": 30,
   "metadata": {},
   "outputs": [
    {
     "output_type": "stream",
     "name": "stdout",
     "text": [
      "{vCO2: -6/43, vCr2SO43: 1, vFe2SO43: -1/86, vH2O: 355/43, vH2SO4: -355/86, vK2Cr2O7: -1, vK2SO4: 44/43, vK4FeSCN6: 1/43, vKNO3: -6/43}\n"
     ]
    }
   ],
   "source": [
    "balance_two = sm.solve(atom_balances + basis_eqn)\n",
    "\n",
    "# co-efficients of balance equation molecules\n",
    "print(balance_two)"
   ]
  },
  {
   "cell_type": "code",
   "execution_count": null,
   "metadata": {},
   "outputs": [],
   "source": []
  }
 ]
}